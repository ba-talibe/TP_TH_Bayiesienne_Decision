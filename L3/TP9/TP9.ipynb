{
 "cells": [
  {
   "cell_type": "code",
   "execution_count": null,
   "id": "8be4e29c-3845-40bd-a650-101255ea3c5c",
   "metadata": {},
   "outputs": [
    {
     "ename": "",
     "evalue": "",
     "output_type": "error",
     "traceback": [
      "\u001b[1;31mFailed to start the Kernel. \n",
      "\u001b[1;31mView Jupyter <a href='command:jupyter.viewOutput'>log</a> for further details."
     ]
    }
   ],
   "source": [
    "import numpy as np\n",
    "import pandas as pd\n",
    "import seaborn as sns\n",
    "from matplotlib import pyplot as plt"
   ]
  },
  {
   "cell_type": "markdown",
   "id": "7ba3606a-ad1e-45b2-aeb9-197a4353a8d4",
   "metadata": {},
   "source": [
    "# Outils"
   ]
  },
  {
   "cell_type": "markdown",
   "id": "db932776-5f38-4001-b4ce-329d3b2f2671",
   "metadata": {},
   "source": [
    "## definition des distances"
   ]
  },
  {
   "cell_type": "code",
   "execution_count": null,
   "id": "72bb1e6c-173f-4300-86b6-a1376d14bd71",
   "metadata": {},
   "outputs": [
    {
     "ename": "",
     "evalue": "",
     "output_type": "error",
     "traceback": [
      "\u001b[1;31mFailed to start the Kernel. \n",
      "\u001b[1;31mView Jupyter <a href='command:jupyter.viewOutput'>log</a> for further details."
     ]
    }
   ],
   "source": [
    "euclid_distance = lambda x, y : np.sum((x)*(x), axis=1)\n",
    "mahalonobis_distance = lambda x, y, sigma: np.sum((x@sigma)*y, axis=1)"
   ]
  },
  {
   "cell_type": "markdown",
   "id": "c8ddb7e8-20e6-4ab5-98f9-266292c44aae",
   "metadata": {},
   "source": [
    "# chargement des jeu de données et extraction des caracteristique des classes"
   ]
  },
  {
   "cell_type": "code",
   "execution_count": null,
   "id": "15140577-3711-4b7c-959b-389d44d67389",
   "metadata": {},
   "outputs": [
    {
     "ename": "",
     "evalue": "",
     "output_type": "error",
     "traceback": [
      "\u001b[1;31mFailed to start the Kernel. \n",
      "\u001b[1;31mView Jupyter <a href='command:jupyter.viewOutput'>log</a> for further details."
     ]
    }
   ],
   "source": [
    "import os \n",
    "os.getcwd()"
   ]
  },
  {
   "cell_type": "code",
   "execution_count": null,
   "id": "deecb8d5-1f91-45fa-821b-28378d04e501",
   "metadata": {},
   "outputs": [
    {
     "ename": "",
     "evalue": "",
     "output_type": "error",
     "traceback": [
      "\u001b[1;31mFailed to start the Kernel. \n",
      "\u001b[1;31mView Jupyter <a href='command:jupyter.viewOutput'>log</a> for further details."
     ]
    }
   ],
   "source": [
    "df = pd.read_csv(\"tp9_data/tp9_data_train.txt\", names=[\"x1\", \"x2\", \"y\"])\n",
    "X_train = df[[\"x1\", \"x2\"]].values\n",
    "y_train = df[\"y\"].values"
   ]
  },
  {
   "cell_type": "markdown",
   "id": "6a822b3b-4cf6-4ea4-8779-565bddea4988",
   "metadata": {},
   "source": [
    "## moyenne des classse"
   ]
  },
  {
   "cell_type": "code",
   "execution_count": null,
   "id": "959bfd3c-9629-4cc4-9779-92a8a96865ef",
   "metadata": {},
   "outputs": [
    {
     "ename": "",
     "evalue": "",
     "output_type": "error",
     "traceback": [
      "\u001b[1;31mFailed to start the Kernel. \n",
      "\u001b[1;31mView Jupyter <a href='command:jupyter.viewOutput'>log</a> for further details."
     ]
    }
   ],
   "source": [
    "classes = df.y.unique()\n",
    "classes.sort()\n",
    "\n",
    "\n",
    "classes_mean = np.array([df[df.y == classe][[\"x1\", \"x2\"]].values.mean(axis=0) for classe in classes])\n",
    "classes_mean"
   ]
  },
  {
   "cell_type": "markdown",
   "id": "a60c176d-2672-4f0e-96eb-203f5cf27e12",
   "metadata": {},
   "source": [
    "## variance des classes"
   ]
  },
  {
   "cell_type": "code",
   "execution_count": null,
   "id": "3ea6e9f5-1848-4fea-a5d8-8f9d87d8c2fc",
   "metadata": {},
   "outputs": [
    {
     "ename": "",
     "evalue": "",
     "output_type": "error",
     "traceback": [
      "\u001b[1;31mFailed to start the Kernel. \n",
      "\u001b[1;31mView Jupyter <a href='command:jupyter.viewOutput'>log</a> for further details."
     ]
    }
   ],
   "source": [
    "print(df[df.y == 0][[\"x1\", \"x2\"]].cov())\n",
    "print(np.cov(df[df.y == 0][[\"x1\", \"x2\"]].values.T))"
   ]
  },
  {
   "cell_type": "code",
   "execution_count": null,
   "id": "4bab07bf-14cd-4871-a616-6cc9494f588b",
   "metadata": {},
   "outputs": [
    {
     "ename": "",
     "evalue": "",
     "output_type": "error",
     "traceback": [
      "\u001b[1;31mFailed to start the Kernel. \n",
      "\u001b[1;31mView Jupyter <a href='command:jupyter.viewOutput'>log</a> for further details."
     ]
    }
   ],
   "source": [
    "\n",
    "#np.cov(df[df.y == 0][[\"x1\", \"x2\"]].values.T)\n",
    "classes_sigma = np.array([np.cov(df[df.y == classe][[\"x1\", \"x2\"]].values.T) for classe in classes])\n",
    "classes_inv_sigma = np.array([np.linalg.inv(sigma) for sigma in classes_sigma])\n"
   ]
  },
  {
   "cell_type": "markdown",
   "id": "4b266a22-c7cf-485c-b58e-8826be7dd66d",
   "metadata": {},
   "source": [
    "## probabilité a priori des classes"
   ]
  },
  {
   "cell_type": "code",
   "execution_count": null,
   "id": "858d7125-c1f0-42bb-8b13-9e869216dc5e",
   "metadata": {},
   "outputs": [
    {
     "ename": "",
     "evalue": "",
     "output_type": "error",
     "traceback": [
      "\u001b[1;31mFailed to start the Kernel. \n",
      "\u001b[1;31mView Jupyter <a href='command:jupyter.viewOutput'>log</a> for further details."
     ]
    }
   ],
   "source": [
    "p_classes = np.array([len(df[df.y == classe])/len(df) for classe in classes])\n",
    "p_classes"
   ]
  },
  {
   "cell_type": "markdown",
   "id": "c35520fe-7d72-4da3-b1fb-b824876f9ce3",
   "metadata": {},
   "source": [
    "# visulaisation des données"
   ]
  },
  {
   "cell_type": "markdown",
   "id": "2ff7819f-7217-47a2-bbf5-55460a934a67",
   "metadata": {},
   "source": [
    "## histogrammes des caracteristiques"
   ]
  },
  {
   "cell_type": "code",
   "execution_count": null,
   "id": "b46605fd-e3b3-4934-b214-59b0a9d28249",
   "metadata": {},
   "outputs": [
    {
     "ename": "",
     "evalue": "",
     "output_type": "error",
     "traceback": [
      "\u001b[1;31mFailed to start the Kernel. \n",
      "\u001b[1;31mView Jupyter <a href='command:jupyter.viewOutput'>log</a> for further details."
     ]
    }
   ],
   "source": [
    "def show(df):\n",
    "    classes = df.y.unique()\n",
    "    classes.sort()\n",
    "    plt.figure(figsize=(18, 8))\n",
    "    for classe in classes:\n",
    "        plt.hist(df[df.y==classe][\"x1\"], bins=20, alpha=0.5, label=f\"classe {classe}\")\n",
    "        # plt.hist(class_1[\"x1\"], bins=20, alpha=0.5, label=fClasse {class}\", color='r')\n",
    "    plt.xlabel('Valeurs de x1')\n",
    "    plt.ylabel('Fréquence')\n",
    "    plt.title('Histogrammes des valeurs de x1 pour chaque classe')\n",
    "    plt.legend()\n",
    "    plt.show()\n",
    "    plt.figure(figsize=(18, 8))\n",
    "    for classe in classes:\n",
    "        plt.hist(df[df.y==classe][\"x2\"], bins=20, alpha=0.5, label=f\"classe {classe}\")\n",
    "        # plt.hist(class_1[\"x2\"], bins=20, alpha=0.5, label='Classe 1', color='r')\n",
    "    plt.xlabel('Valeurs de x2')\n",
    "    plt.ylabel('Fréquence')\n",
    "    plt.title('Histogrammes des valeurs de x2 pour chaque classe')\n",
    "    plt.legend()\n",
    "    plt.show()\n",
    "\n",
    "show(df)\n"
   ]
  },
  {
   "cell_type": "markdown",
   "id": "d6b6ce2b-8284-474f-bdc9-7c3a801c60d9",
   "metadata": {},
   "source": [
    "## nuage  des variables"
   ]
  },
  {
   "cell_type": "code",
   "execution_count": null,
   "id": "eb71fe99-c0d2-41d6-b3f6-6f28cda81a83",
   "metadata": {},
   "outputs": [
    {
     "ename": "",
     "evalue": "",
     "output_type": "error",
     "traceback": [
      "\u001b[1;31mFailed to start the Kernel. \n",
      "\u001b[1;31mView Jupyter <a href='command:jupyter.viewOutput'>log</a> for further details."
     ]
    }
   ],
   "source": [
    "def scatter_df(df):\n",
    "    classes = df.y.unique()\n",
    "    classes.sort()\n",
    "    plt.figure(figsize=(18, 8))\n",
    "    \n",
    "    for classe in classes :\n",
    "        plt.scatter(df[df.y==classe]['x1'], df[df.y==classe]['x2'], marker=\"+\",  label=f\"Classe {classe}\")\n",
    "        \n",
    "    plt.axis(\"equal\")\n",
    "    plt.title('Nuage de points des classes ')\n",
    "    plt.xlabel('Caractéristique x1')\n",
    "    plt.ylabel('Caractéristique x2')\n",
    "    plt.legend()\n",
    "\n",
    "scatter_df(df)"
   ]
  },
  {
   "cell_type": "code",
   "execution_count": null,
   "id": "00dfc593-6f86-4b1f-a56a-b5335a813a38",
   "metadata": {},
   "outputs": [
    {
     "ename": "",
     "evalue": "",
     "output_type": "error",
     "traceback": [
      "\u001b[1;31mFailed to start the Kernel. \n",
      "\u001b[1;31mView Jupyter <a href='command:jupyter.viewOutput'>log</a> for further details."
     ]
    }
   ],
   "source": [
    "\n",
    "for classe in classes:\n",
    "    plt.figure(figsize=(5, 5))\n",
    "    plt.title(f\"covariance des variable dans la classe {classe}\")\n",
    "    sns.heatmap(classes_sigma[classe], annot=True)"
   ]
  },
  {
   "cell_type": "markdown",
   "id": "a4054572-afd4-4bdd-8a19-a9c047ead2a1",
   "metadata": {},
   "source": [
    "# Entrainement avec la distance de mahalanobis"
   ]
  },
  {
   "cell_type": "code",
   "execution_count": null,
   "id": "9e528793-e89f-49ff-af63-7554f9e4d4a8",
   "metadata": {},
   "outputs": [
    {
     "ename": "",
     "evalue": "",
     "output_type": "error",
     "traceback": [
      "\u001b[1;31mFailed to start the Kernel. \n",
      "\u001b[1;31mView Jupyter <a href='command:jupyter.viewOutput'>log</a> for further details."
     ]
    }
   ],
   "source": [
    "## definition des fonction de prediction"
   ]
  },
  {
   "cell_type": "code",
   "execution_count": null,
   "id": "48fd1522-059d-4d83-a071-b2415252cd66",
   "metadata": {},
   "outputs": [
    {
     "ename": "",
     "evalue": "",
     "output_type": "error",
     "traceback": [
      "\u001b[1;31mFailed to start the Kernel. \n",
      "\u001b[1;31mView Jupyter <a href='command:jupyter.viewOutput'>log</a> for further details."
     ]
    }
   ],
   "source": [
    "def get_euclidian_predictor(mu, classes):\n",
    "\n",
    "    def prediction(X):\n",
    "        d = np.array(np.concatenate([[euclid_distance(X-mu[classe], X-mu[classe])] for classe in classes])).T\n",
    "        return d.argmin(axis=1)\n",
    "\n",
    "    return prediction"
   ]
  },
  {
   "cell_type": "code",
   "execution_count": null,
   "id": "2b5fdc51-f48b-4e7d-94b2-163cd2c0e36d",
   "metadata": {},
   "outputs": [
    {
     "ename": "",
     "evalue": "",
     "output_type": "error",
     "traceback": [
      "\u001b[1;31mFailed to start the Kernel. \n",
      "\u001b[1;31mView Jupyter <a href='command:jupyter.viewOutput'>log</a> for further details."
     ]
    }
   ],
   "source": [
    "def get_mal_predictor( mu, classes_sigma,  classes_p, classes):\n",
    "    sigma_inv = np.array([np.linalg.inv(sigma) for sigma in classes_sigma])\n",
    "\n",
    "    det_sigma = [np.linalg.det(sigma) for sigma in classes_sigma]\n",
    "\n",
    "    b = [np.log(det_sigma[classe]) - 2 * np.log(classes_p[classe]) for classe in classes]\n",
    "    \n",
    "    def prediction(X):\n",
    "        d = np.array(np.concatenate([[euclid_distance(X-mu[classe], X-mu[classe]) + b[classe]] for classe in classes])).T\n",
    "        return d.argmin(axis=1)\n",
    "\n",
    "    return prediction\n"
   ]
  },
  {
   "cell_type": "markdown",
   "id": "57b8b388-ed45-425f-8900-2a247dfb7606",
   "metadata": {},
   "source": [
    "## outils affichage des frontiere de decision"
   ]
  },
  {
   "cell_type": "code",
   "execution_count": null,
   "id": "3fb79d0c-7900-4b04-9e87-9ca571bdf5c5",
   "metadata": {},
   "outputs": [
    {
     "ename": "",
     "evalue": "",
     "output_type": "error",
     "traceback": [
      "\u001b[1;31mFailed to start the Kernel. \n",
      "\u001b[1;31mView Jupyter <a href='command:jupyter.viewOutput'>log</a> for further details."
     ]
    }
   ],
   "source": [
    "def plot_decision_multi(x1_min, x1_max, x2_min, x2_max, prediction, sample = 300):\n",
    "    \"\"\"Uses Matplotlib to plot and fill a region with 2 colors\n",
    "    corresponding to 2 classes.\n",
    "\n",
    "    Parameters\n",
    "    ----------\n",
    "    x1_min : float\n",
    "        Minimum value for the first feature\n",
    "    x1_max : float\n",
    "        Maximum value for the first feature\n",
    "    x2_min : float\n",
    "        Minimum value for the second feature\n",
    "    x2_max : float\n",
    "        Maximum value for the second feature\n",
    "    prediction :  (x : 2D vector) -> label : int\n",
    "        Prediction function for a vector x\n",
    "    sample : int, optional\n",
    "        Number of samples on each feature (default is 300)\n",
    "    \"\"\"\n",
    "    x1_list = np.linspace(x1_min, x1_max, sample)\n",
    "    x2_list = np.linspace(x2_min, x2_max, sample)\n",
    "    y_grid_pred = [[prediction(np.array([[x1,x2]]))[0] for x1 in x1_list] for x2 in x2_list] \n",
    "    l = np.shape(np.unique(y_grid_pred))[0] - 1\n",
    "    plt.contourf(x1_list, x2_list, y_grid_pred, levels=l, colors=plt.rcParams['axes.prop_cycle'].by_key()['color'], alpha=0.35)\n"
   ]
  },
  {
   "cell_type": "markdown",
   "id": "c5f39388-8191-4ae9-ad11-1c27b3401236",
   "metadata": {},
   "source": [
    "## Creation des modele de prediction bayesienne"
   ]
  },
  {
   "cell_type": "code",
   "execution_count": null,
   "id": "3c100354-97d3-4e93-a731-5ffc0aeee744",
   "metadata": {},
   "outputs": [
    {
     "ename": "",
     "evalue": "",
     "output_type": "error",
     "traceback": [
      "\u001b[1;31mFailed to start the Kernel. \n",
      "\u001b[1;31mView Jupyter <a href='command:jupyter.viewOutput'>log</a> for further details."
     ]
    }
   ],
   "source": [
    "mahalonobis_predictor = get_mal_predictor(classes_mean, classes_sigma, p_classes, classes)\n",
    "euclidian_predictor = get_euclidian_predictor(classes_mean, classes)"
   ]
  },
  {
   "cell_type": "code",
   "execution_count": null,
   "id": "21866b1e-b936-439a-a766-f3043409456e",
   "metadata": {},
   "outputs": [
    {
     "ename": "",
     "evalue": "",
     "output_type": "error",
     "traceback": [
      "\u001b[1;31mFailed to start the Kernel. \n",
      "\u001b[1;31mView Jupyter <a href='command:jupyter.viewOutput'>log</a> for further details."
     ]
    }
   ],
   "source": [
    "euclidian_predictor([[2, 4]])"
   ]
  },
  {
   "cell_type": "code",
   "execution_count": null,
   "id": "a24eb716-93e4-448e-9f61-1d433339a6dc",
   "metadata": {},
   "outputs": [
    {
     "ename": "",
     "evalue": "",
     "output_type": "error",
     "traceback": [
      "\u001b[1;31mFailed to start the Kernel. \n",
      "\u001b[1;31mView Jupyter <a href='command:jupyter.viewOutput'>log</a> for further details."
     ]
    }
   ],
   "source": [
    "## resultat avec mahalanobis"
   ]
  },
  {
   "cell_type": "code",
   "execution_count": null,
   "id": "f113bdf9-f895-4bf3-b657-7e930bcb6e67",
   "metadata": {},
   "outputs": [
    {
     "ename": "",
     "evalue": "",
     "output_type": "error",
     "traceback": [
      "\u001b[1;31mFailed to start the Kernel. \n",
      "\u001b[1;31mView Jupyter <a href='command:jupyter.viewOutput'>log</a> for further details."
     ]
    }
   ],
   "source": [
    "scatter_df(df)\n",
    "plot_decision_multi(df['x1'].min(), df['x1'].max(), df['x2'].min(), df['x2'].max(), mahalonobis_predictor)"
   ]
  },
  {
   "cell_type": "code",
   "execution_count": null,
   "id": "d642a82e-dab1-44d0-a67b-cb789d0418f1",
   "metadata": {},
   "outputs": [
    {
     "ename": "",
     "evalue": "",
     "output_type": "error",
     "traceback": [
      "\u001b[1;31mFailed to start the Kernel. \n",
      "\u001b[1;31mView Jupyter <a href='command:jupyter.viewOutput'>log</a> for further details."
     ]
    }
   ],
   "source": [
    "scatter_df(df)\n",
    "plot_decision_multi(df['x1'].min(), df['x1'].max(), df['x2'].min(), df['x2'].max(), euclidian_predictor)"
   ]
  }
 ],
 "metadata": {
  "kernelspec": {
   "display_name": "Python 3 (ipykernel)",
   "language": "python",
   "name": "python3"
  },
  "language_info": {
   "name": "python",
   "version": "3.10.12"
  }
 },
 "nbformat": 4,
 "nbformat_minor": 5
}
